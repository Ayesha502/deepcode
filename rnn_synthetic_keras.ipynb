{
 "cells": [
  {
   "cell_type": "code",
   "execution_count": 1,
   "metadata": {
    "collapsed": false
   },
   "outputs": [
    {
     "name": "stdout",
     "output_type": "stream",
     "text": [
      "Using Theano backend.\n",
      "Couldn't import dot_parser, loading of dot files will not be possible.\n"
     ]
    }
   ],
   "source": [
    "from __future__ import print_function\n",
    "from keras.models import Sequential\n",
    "from keras.layers.core import Dense, Activation, Dropout\n",
    "from keras.layers.recurrent import LSTM\n",
    "from keras.datasets.data_utils import get_file\n",
    "from keras.callbacks import Callback\n",
    "\n",
    "import tensorflow as tf\n",
    "from tensorflow.models.rnn import rnn, rnn_cell\n",
    "\n",
    "import numpy as np\n",
    "import random\n",
    "import sys\n",
    "import csv\n",
    "import matplotlib.pyplot as plt\n",
    "\n",
    "synthetic_data_set = \"../syntheticData/naive_c5_q50_s4000_v0.csv\""
   ]
  },
  {
   "cell_type": "code",
   "execution_count": 2,
   "metadata": {
    "collapsed": true
   },
   "outputs": [],
   "source": [
    "# Parameters\n",
    "# learning_rate = 0.001\n",
    "# training_iters = 10\n",
    "# num_hidden = 512\n",
    "train_split = 0.7\n",
    "#batch_size = 128\n",
    "#display_step = 1"
   ]
  },
  {
   "cell_type": "code",
   "execution_count": 3,
   "metadata": {
    "collapsed": false
   },
   "outputs": [],
   "source": [
    "# Read in the data set\n",
    "data_array = np.array(list(csv.reader(open(synthetic_data_set,\"rb\"),delimiter=','))).astype('int')\n",
    "num_samples = data_array.shape[0]\n",
    "num_problems = data_array.shape[1]\n",
    "\n",
    "# Split data into train and test (70/30 split)\n",
    "train = data_array[0:int(num_samples*train_split),:]\n",
    "test = data_array[int(num_samples*train_split):num_samples,:]\n",
    "\n",
    "num_train = train.shape[0]\n",
    "num_test = test.shape[0]"
   ]
  },
  {
   "cell_type": "code",
   "execution_count": 4,
   "metadata": {
    "collapsed": false
   },
   "outputs": [
    {
     "name": "stdout",
     "output_type": "stream",
     "text": [
      "Vectorization...\n",
      "Finished vectorization...\n"
     ]
    }
   ],
   "source": [
    "# Create 3-dimensional input tensor with one-hot encodings for each sample\n",
    "# the dimension of each vector for a student i and time t is 2 * num_problems\n",
    "# where the first half corresponds to the correctly answered problems and the\n",
    "# second half to the incorrectly answered ones.\n",
    "\n",
    "# The output tensor is also 3-dimensional where the output dimension is \n",
    "# num_problems and is encoded as 1 if the problem is correct and -1 if it is incorrect.\n",
    "# Since the output is only used in the loss computation, as long as we \n",
    "# configure the loss objective correctly, we will not lose any specificity\n",
    "# in not using one-hot encoding.\n",
    "\n",
    "print('Vectorization...')\n",
    "X_train = np.zeros((num_train, num_problems, num_problems * 2), dtype=np.bool)\n",
    "y_train = np.zeros((num_train, num_problems, num_problems), dtype=np.bool)\n",
    "\n",
    "for i in xrange(num_train):\n",
    "    for t in xrange(num_problems):\n",
    "        if train[i,t] == 1:\n",
    "            X_train[i, t, t] = 1\n",
    "            y_train[i, t, t] = 1\n",
    "        else:\n",
    "            X_train[i, t, num_problems + t] = 1\n",
    "            y_train[i, t, t] = -1\n",
    "            \n",
    "#     y_train[i,0:num_problems - 1] = train[i,1:num_problems]\n",
    "#     y_train[i, num_problems-1] = 0\n",
    "    \n",
    "print('Finished vectorization...')"
   ]
  },
  {
   "cell_type": "code",
   "execution_count": 5,
   "metadata": {
    "collapsed": false
   },
   "outputs": [
    {
     "name": "stdout",
     "output_type": "stream",
     "text": [
      "[[False False False ..., False False False]\n",
      " [False  True False ..., False False False]\n",
      " [False False False ..., False False False]\n",
      " ..., \n",
      " [False False False ..., False False False]\n",
      " [False False False ..., False False False]\n",
      " [False False False ..., False False  True]]\n",
      "[[ True False False ..., False False False]\n",
      " [False  True False ..., False False False]\n",
      " [False False  True ..., False False False]\n",
      " ..., \n",
      " [False False False ...,  True False False]\n",
      " [False False False ..., False  True False]\n",
      " [False False False ..., False False  True]]\n"
     ]
    }
   ],
   "source": [
    "# The objective function should be placed in keras codebase for objectives\n",
    "def my_objective(y_true, y_pred):\n",
    "    return K.binary_crossentropy(K.dot(y_pred, y_true), K.sum(y_true)*0.5+0.5)\n",
    "\n",
    "# Print for verification\n",
    "print(X_train[10])\n",
    "print(y_train[10])\n"
   ]
  },
  {
   "cell_type": "code",
   "execution_count": 8,
   "metadata": {
    "collapsed": false
   },
   "outputs": [
    {
     "name": "stdout",
     "output_type": "stream",
     "text": [
      "Building model...\n",
      "Compile model...\n",
      "Compiling finished.\n"
     ]
    }
   ],
   "source": [
    "# build the model\n",
    "print('Building model...')\n",
    "model = Sequential()\n",
    "model.add(LSTM(num_problems, return_sequences=True, input_shape=(num_problems, num_problems * 2)))\n",
    "# model.add(LSTM(num_problems, return_sequences=True, input_shape=(num_problems, num_problems * 2)))\n",
    "# model.add(Dropout(0.2))\n",
    "# model.add(LSTM(512, return_sequences=False))\n",
    "# model.add(Dropout(0.2))\n",
    "# model.add(Dense(num_problems))\n",
    "model.add(Activation('softmax'))\n",
    "\n",
    "print('Compile model...')\n",
    "model.compile(loss=\"my_objective\", optimizer='rmsprop', class_mode='binary')\n",
    "\n",
    "print ('Compiling finished.')"
   ]
  },
  {
   "cell_type": "code",
   "execution_count": 9,
   "metadata": {
    "collapsed": false,
    "scrolled": true
   },
   "outputs": [
    {
     "name": "stdout",
     "output_type": "stream",
     "text": [
      "--------------------------------------------------------------------------------\n",
      "Initial input shape: (None, 50, 100)\n",
      "--------------------------------------------------------------------------------\n",
      "Layer (name)                  Output Shape                  Param #             \n",
      "--------------------------------------------------------------------------------\n",
      "LSTM (Unnamed)                (None, 50, 50)                30200               \n",
      "Activation (Unnamed)          (None, 50, 50)                0                   \n",
      "--------------------------------------------------------------------------------\n",
      "Total params: 30200\n",
      "--------------------------------------------------------------------------------\n"
     ]
    }
   ],
   "source": [
    "model.summary()\n",
    "x = model.to_json()"
   ]
  },
  {
   "cell_type": "code",
   "execution_count": 13,
   "metadata": {
    "collapsed": false
   },
   "outputs": [
    {
     "name": "stdout",
     "output_type": "stream",
     "text": [
      "\n",
      "--------------------------------------------------\n",
      "Iteration 0\n",
      "Epoch 1/1\n",
      "2800/2800 [==============================] - 112s - loss: 19462.3836 - acc: 0.9800   \n",
      "\n",
      "--------------------------------------------------\n",
      "Iteration 1\n",
      "Epoch 1/1\n",
      "2800/2800 [==============================] - 109s - loss: 19462.0434 - acc: 0.9800   \n",
      "\n",
      "--------------------------------------------------\n",
      "Iteration 2\n",
      "Epoch 1/1\n",
      "2800/2800 [==============================] - 112s - loss: 19461.7849 - acc: 0.9800   \n",
      "\n",
      "--------------------------------------------------\n",
      "Iteration 3\n",
      "Epoch 1/1\n",
      "2800/2800 [==============================] - 111s - loss: 19461.5912 - acc: 0.9800   \n",
      "\n",
      "--------------------------------------------------\n",
      "Iteration 4\n",
      "Epoch 1/1\n",
      "2800/2800 [==============================] - 113s - loss: 19461.4438 - acc: 0.9800   \n"
     ]
    }
   ],
   "source": [
    "class LossHistory(Callback):\n",
    "    def on_train_begin(self, logs={}):\n",
    "        self.losses = []\n",
    "\n",
    "    def on_batch_end(self, batch, logs={}):\n",
    "        self.losses.append(logs.get('loss'))\n",
    "\n",
    "# train the model, output generated text after each iteration\n",
    "numEpochs = 5\n",
    "histories = [LossHistory() for i in xrange(numEpochs)]\n",
    "\n",
    "for i in xrange(numEpochs):\n",
    "    print()\n",
    "    print('-' * 50)\n",
    "    print('Iteration', i)\n",
    "    model.fit(X_train, y_train, batch_size=200, nb_epoch=1, verbose=1, show_accuracy=True, callbacks=[histories[i]])\n",
    "    "
   ]
  },
  {
   "cell_type": "code",
   "execution_count": 14,
   "metadata": {
    "collapsed": false
   },
   "outputs": [
    {
     "data": {
      "text/plain": [
       "[array(19462.57421875, dtype=float32),\n",
       " array(19462.53515625, dtype=float32),\n",
       " array(19462.51171875, dtype=float32),\n",
       " array(19462.484375, dtype=float32),\n",
       " array(19462.44921875, dtype=float32),\n",
       " array(19462.41796875, dtype=float32),\n",
       " array(19462.39453125, dtype=float32),\n",
       " array(19462.369140625, dtype=float32),\n",
       " array(19462.33984375, dtype=float32),\n",
       " array(19462.31640625, dtype=float32),\n",
       " array(19462.287109375, dtype=float32),\n",
       " array(19462.25390625, dtype=float32),\n",
       " array(19462.23046875, dtype=float32),\n",
       " array(19462.20703125, dtype=float32),\n",
       " array(19462.1796875, dtype=float32),\n",
       " array(19462.162109375, dtype=float32),\n",
       " array(19462.134765625, dtype=float32),\n",
       " array(19462.111328125, dtype=float32),\n",
       " array(19462.103515625, dtype=float32),\n",
       " array(19462.078125, dtype=float32),\n",
       " array(19462.056640625, dtype=float32),\n",
       " array(19462.029296875, dtype=float32),\n",
       " array(19462.015625, dtype=float32),\n",
       " array(19461.98828125, dtype=float32),\n",
       " array(19461.96875, dtype=float32),\n",
       " array(19461.947265625, dtype=float32),\n",
       " array(19461.9296875, dtype=float32),\n",
       " array(19461.90234375, dtype=float32),\n",
       " array(19461.88671875, dtype=float32),\n",
       " array(19461.873046875, dtype=float32),\n",
       " array(19461.85546875, dtype=float32),\n",
       " array(19461.837890625, dtype=float32),\n",
       " array(19461.828125, dtype=float32),\n",
       " array(19461.806640625, dtype=float32),\n",
       " array(19461.79296875, dtype=float32),\n",
       " array(19461.775390625, dtype=float32),\n",
       " array(19461.7578125, dtype=float32),\n",
       " array(19461.748046875, dtype=float32),\n",
       " array(19461.728515625, dtype=float32),\n",
       " array(19461.712890625, dtype=float32),\n",
       " array(19461.697265625, dtype=float32),\n",
       " array(19461.6875, dtype=float32),\n",
       " array(19461.67578125, dtype=float32),\n",
       " array(19461.658203125, dtype=float32),\n",
       " array(19461.6484375, dtype=float32),\n",
       " array(19461.6328125, dtype=float32),\n",
       " array(19461.626953125, dtype=float32),\n",
       " array(19461.60546875, dtype=float32),\n",
       " array(19461.591796875, dtype=float32),\n",
       " array(19461.583984375, dtype=float32),\n",
       " array(19461.568359375, dtype=float32),\n",
       " array(19461.55859375, dtype=float32),\n",
       " array(19461.546875, dtype=float32),\n",
       " array(19461.537109375, dtype=float32),\n",
       " array(19461.525390625, dtype=float32),\n",
       " array(19461.517578125, dtype=float32),\n",
       " array(19461.50390625, dtype=float32),\n",
       " array(19461.49609375, dtype=float32),\n",
       " array(19461.484375, dtype=float32),\n",
       " array(19461.4765625, dtype=float32),\n",
       " array(19461.46484375, dtype=float32),\n",
       " array(19461.453125, dtype=float32),\n",
       " array(19461.4453125, dtype=float32),\n",
       " array(19461.435546875, dtype=float32),\n",
       " array(19461.427734375, dtype=float32),\n",
       " array(19461.423828125, dtype=float32),\n",
       " array(19461.4140625, dtype=float32),\n",
       " array(19461.404296875, dtype=float32),\n",
       " array(19461.396484375, dtype=float32),\n",
       " array(19461.38671875, dtype=float32)]"
      ]
     },
     "execution_count": 14,
     "metadata": {},
     "output_type": "execute_result"
    }
   ],
   "source": [
    "losses = []\n",
    "for h in histories:\n",
    "    losses += h.losses\n",
    "losses"
   ]
  },
  {
   "cell_type": "code",
   "execution_count": 15,
   "metadata": {
    "collapsed": true
   },
   "outputs": [],
   "source": [
    "plt.plot(xrange(len(losses)), losses)\n",
    "\n",
    "# plot the trend line with error bars that correspond to standard deviation\n",
    "plt.title('Loss History')\n",
    "plt.xlabel('epoch')\n",
    "plt.ylabel('loss')\n",
    "\n",
    "plt.show()\n"
   ]
  },
  {
   "cell_type": "code",
   "execution_count": 24,
   "metadata": {
    "collapsed": false
   },
   "outputs": [
    {
     "name": "stdout",
     "output_type": "stream",
     "text": [
      "Testing...\n",
      "[ 0.02028906  0.02039262  0.01992478  0.01993229  0.01997399  0.01993312\n",
      "  0.02025737  0.0200217   0.02006359  0.01995398  0.02013768  0.01975674\n",
      "  0.02012044  0.02010968  0.01997481  0.0201058   0.01997916  0.01981311\n",
      "  0.01994011  0.02028799  0.01974992  0.02017627  0.01988604  0.02002745\n",
      "  0.02012044  0.01987702  0.0201378   0.01985788  0.01932975  0.02036081\n",
      "  0.01990332  0.01982962  0.01984949  0.01995428  0.01976612  0.02003777\n",
      "  0.02030792  0.01989521  0.02015081  0.02018172  0.01999045  0.01995668\n",
      "  0.02004852  0.01991509  0.02010181  0.01982266  0.01969512  0.01994578\n",
      "  0.01968784  0.02046838]\n",
      "[False False False False False  True  True False  True  True  True False\n",
      " False False False  True False  True False  True False False  True False\n",
      "  True False  True False  True False  True False  True  True False  True\n",
      " False  True False False  True  True  True False  True False  True  True\n",
      " False False]\n"
     ]
    }
   ],
   "source": [
    "print('Testing...')\n",
    "X_test = np.zeros((num_test, num_problems, num_problems * 2), dtype=np.bool)\n",
    "y_test = np.zeros((num_test, num_problems), dtype=np.bool)\n",
    "\n",
    "for i in xrange(num_test):\n",
    "    for t in xrange(num_problems):\n",
    "        if test[i,t] == 1:\n",
    "            X_test[i, t, t] = 1\n",
    "            y_test[i, t] = 1\n",
    "        else:\n",
    "            X_test[i, t, num_problems + t] = 1\n",
    "\n",
    "predictions = model.predict(X_test)\n",
    "y_pred = predictions[:,-1,:]\n",
    "print(y_pred[0])\n",
    "print(y_test[0])"
   ]
  },
  {
   "cell_type": "code",
   "execution_count": null,
   "metadata": {
    "collapsed": true
   },
   "outputs": [],
   "source": []
  }
 ],
 "metadata": {
  "kernelspec": {
   "display_name": "Python 2",
   "language": "python",
   "name": "python2"
  },
  "language_info": {
   "codemirror_mode": {
    "name": "ipython",
    "version": 2
   },
   "file_extension": ".py",
   "mimetype": "text/x-python",
   "name": "python",
   "nbconvert_exporter": "python",
   "pygments_lexer": "ipython2",
   "version": "2.7.11"
  }
 },
 "nbformat": 4,
 "nbformat_minor": 0
}
