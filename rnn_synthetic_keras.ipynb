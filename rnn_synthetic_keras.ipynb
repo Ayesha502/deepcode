{
 "cells": [
  {
   "cell_type": "code",
   "execution_count": 1,
   "metadata": {
    "collapsed": false
   },
   "outputs": [
    {
     "name": "stderr",
     "output_type": "stream",
     "text": [
      "Using Theano backend.\n"
     ]
    }
   ],
   "source": [
    "\n",
    "from __future__ import print_function\n",
    "from keras.models import Sequential\n",
    "from keras.layers.core import Dense, Activation, Dropout\n",
    "from keras.layers.recurrent import LSTM\n",
    "from keras.datasets.data_utils import get_file\n",
    "from keras.callbacks import Callback\n",
    "import numpy as np\n",
    "import random\n",
    "import sys\n",
    "\n",
    "import numpy as np\n",
    "import csv\n",
    "import matplotlib.pyplot as plt\n",
    "\n",
    "synthetic_data_set = \"syntheticDetailed/naive_c5_q50_s4000_v0.csv\""
   ]
  },
  {
   "cell_type": "code",
   "execution_count": 4,
   "metadata": {
    "collapsed": false
   },
   "outputs": [
    {
     "name": "stdout",
     "output_type": "stream",
     "text": [
      "[[0 1 1 0 0 1 1 0 1 1 1 0 0 1 1 1 0 1 1 1 1 0 1 0 1 0 1 1 1 0 1 0 1 1 1 1 0\n",
      "  0 1 1 0 1 1 0 1 0 1 1 0 1]\n",
      " [1 0 1 0 0 0 0 0 0 1 0 0 0 0 1 0 0 0 1 0 0 0 0 0 0 0 0 0 0 0 1 0 0 1 0 0 0\n",
      "  1 0 0 0 1 0 1 0 0 1 0 0 0]\n",
      " [0 1 1 1 1 1 1 1 1 0 1 0 1 1 0 1 1 1 0 1 1 0 1 0 1 1 1 0 1 0 0 1 1 1 0 0 1\n",
      "  1 1 1 0 0 1 1 1 0 0 1 1 1]\n",
      " [0 1 0 0 1 0 0 0 0 0 1 0 0 0 0 1 0 1 0 1 0 1 0 0 1 0 1 0 1 0 1 1 1 0 0 1 1\n",
      "  0 1 0 0 1 1 1 1 0 0 1 1 1]\n",
      " [0 0 1 1 0 1 1 0 1 1 1 1 1 1 1 1 1 1 1 1 1 0 1 0 1 1 1 1 1 0 0 1 1 1 0 0 1\n",
      "  1 1 1 0 0 0 1 0 1 1 1 1 1]\n",
      " [0 0 1 0 1 0 0 1 1 1 1 0 1 1 0 1 1 1 0 1 1 0 1 0 1 1 0 1 1 1 1 1 1 1 1 0 1\n",
      "  1 1 0 0 0 0 1 0 0 0 1 1 1]\n",
      " [0 1 1 1 1 1 1 1 1 1 1 0 1 0 1 1 1 0 1 0 1 1 1 0 0 1 1 1 0 0 1 1 0 1 1 0 1\n",
      "  1 1 1 0 0 1 1 1 1 1 1 1 1]\n",
      " [0 1 0 0 0 0 0 1 1 1 0 1 1 1 1 1 0 1 1 0 1 0 1 1 1 0 0 1 1 0 0 1 0 1 1 0 0\n",
      "  1 0 1 0 0 0 0 1 1 1 0 0 0]\n",
      " [0 0 0 0 0 0 0 0 0 1 0 0 1 1 1 1 0 0 0 0 1 0 1 0 0 0 0 1 0 1 0 1 0 0 0 0 1\n",
      "  1 0 1 0 0 0 1 0 1 1 0 1 0]\n",
      " [0 0 1 0 1 0 1 1 1 1 1 0 0 1 1 1 1 1 1 1 1 1 0 1 1 1 1 1 1 1 1 0 1 1 0 1 1\n",
      "  1 0 1 1 1 1 0 1 1 1 1 0 0]]\n",
      "(2000, 50)\n",
      "(2000, 50)\n",
      "Vectorization...\n"
     ]
    }
   ],
   "source": [
    "# Read in the data set\n",
    "# This function can be moved to utils.py\n",
    "data_array = np.array(list(csv.reader(open(synthetic_data_set,\"rb\"),delimiter=','))).astype('int')\n",
    "print (data_array[0:10])\n",
    "num_samples = data_array.shape[0]\n",
    "num_problems = data_array.shape[1]\n",
    "num_timesteps = num_problems\n",
    "# Split data into train and test (half and half)\n",
    "train = data_array[0:num_samples/2,:]\n",
    "test = data_array[num_samples/2:num_samples,:]\n",
    "print (train.shape)\n",
    "print (test.shape)\n",
    "\n",
    "num_train = train.shape[0]\n",
    "num_test = test.shape[0]\n",
    "\n",
    "\n",
    "print('Vectorization...')\n",
    "X_train = np.zeros((num_train, num_timesteps, num_problems * 2), dtype=np.bool)\n",
    "y_train = np.zeros((num_train, num_timesteps, num_problems), dtype=np.bool)\n",
    "\n",
    "# Create 3-dimensional input tensor with one-hot encodings for each sample\n",
    "# the dimension of each vector for a student i and time t is 2 * num_problems\n",
    "# where the first half corresponds to the correctly answered problems and the\n",
    "# second half to the incorrectly answered ones.\n",
    "\n",
    "\n",
    "for i in xrange(num_train):\n",
    "    \n",
    "    # for the first time step. Done separately so we can populate the output \n",
    "    # tensor at the same time, which is shifted back by 1.\n",
    "#     if train[0,0] == 1:\n",
    "#         X_train[0, 0, 0] = 1 # since timestep t corresponds to problem t\n",
    "#     else:\n",
    "#         X_train[0, 0, num_problems] = 1\n",
    "            \n",
    "    for t in xrange(0,num_timesteps):\n",
    "        p = t # since timestep t corresponds to problem p where t=p\n",
    "        if train[i,p] == 1:\n",
    "            X_train[i, t, p] = 1 \n",
    "        else:\n",
    "            X_train[i, t, num_problems + p] = 1\n",
    "#         y_train[i,t-1, p] = train[i,t,p]\n",
    "    y_train[i,t,p] = train[i,p]\n",
    "            \n",
    "#     y_train[i,0:num_problems - 1] = train[i,1:num_problems]\n",
    "#     y_train[i, num_problems-1] = 0\n",
    "\n",
    "\n",
    "\n"
   ]
  },
  {
   "cell_type": "code",
   "execution_count": 5,
   "metadata": {
    "collapsed": false
   },
   "outputs": [
    {
     "name": "stdout",
     "output_type": "stream",
     "text": [
      "Build model...\n",
      "Compile model..."
     ]
    },
    {
     "name": "stderr",
     "output_type": "stream",
     "text": [
      "INFO (theano.gof.compilelock): Waiting for existing lock by process '27378' (I am process '32444')\n",
      "INFO:theano.gof.compilelock:Waiting for existing lock by process '27378' (I am process '32444')\n",
      "INFO (theano.gof.compilelock): To manually release the lock, delete /Users/lisa1010/.theano/compiledir_Darwin-15.2.0-x86_64-i386-64bit-i386-2.7.10-64/lock_dir\n",
      "INFO:theano.gof.compilelock:To manually release the lock, delete /Users/lisa1010/.theano/compiledir_Darwin-15.2.0-x86_64-i386-64bit-i386-2.7.10-64/lock_dir\n"
     ]
    },
    {
     "name": "stdout",
     "output_type": "stream",
     "text": [
      "\n",
      "Compiling finished.\n"
     ]
    }
   ],
   "source": [
    "# build the model: 2 stacked LSTM\n",
    "print('Build model...')\n",
    "model = Sequential()\n",
    "model.add(LSTM(512, return_sequences=True, input_shape=(num_timesteps, num_problems * 2)))\n",
    "model.add(Dropout(0.2))\n",
    "model.add(LSTM(num_problems, return_sequences=True))\n",
    "model.add(Dropout(0.2))\n",
    "# model.add(Dense(num_problems, input_shape=(num_problems, num_problems)))\n",
    "model.add(Activation('softmax'))\n",
    "\n",
    "print('Compile model...')\n",
    "model.compile(loss='categorical_crossentropy', optimizer='rmsprop')\n",
    "print ('Compiling finished.')"
   ]
  },
  {
   "cell_type": "code",
   "execution_count": null,
   "metadata": {
    "collapsed": true
   },
   "outputs": [],
   "source": [
    "def sample(a, temperature=1.0):\n",
    "    # helper function to sample an index from a probability array\n",
    "    a = np.log(a) / temperature\n",
    "    a = np.exp(a) / np.sum(np.exp(a))\n",
    "    return np.argmax(np.random.multinomial(1, a, 1))"
   ]
  },
  {
   "cell_type": "code",
   "execution_count": 7,
   "metadata": {
    "collapsed": false
   },
   "outputs": [
    {
     "name": "stdout",
     "output_type": "stream",
     "text": [
      "\n",
      "--------------------------------------------------\n",
      "Iteration 0\n",
      "Epoch 1/1\n",
      "2000/2000 [==============================] - 44s - loss: 0.0527 - acc: 0.0201    \n",
      "\n",
      "--------------------------------------------------\n",
      "Iteration 1\n",
      "Epoch 1/1\n",
      "2000/2000 [==============================] - 44s - loss: 0.0462 - acc: 0.0154    \n",
      "\n",
      "--------------------------------------------------\n",
      "Iteration 2\n",
      "Epoch 1/1\n",
      "2000/2000 [==============================] - 40s - loss: 0.0437 - acc: 0.0137    \n",
      "\n",
      "--------------------------------------------------\n",
      "Iteration 3\n",
      "Epoch 1/1\n",
      "2000/2000 [==============================] - 40s - loss: 0.0430 - acc: 0.0137    \n",
      "\n",
      "--------------------------------------------------\n",
      "Iteration 4\n",
      "Epoch 1/1\n",
      "2000/2000 [==============================] - 45s - loss: 0.0423 - acc: 0.0138    \n"
     ]
    }
   ],
   "source": [
    "class LossHistory(Callback):\n",
    "    def on_train_begin(self, logs={}):\n",
    "        self.losses = []\n",
    "\n",
    "    def on_batch_end(self, batch, logs={}):\n",
    "        self.losses.append(logs.get('loss'))\n",
    "\n",
    "# train the model, output generated text after each iteration\n",
    "\n",
    "epochs = 5\n",
    "histories = [LossHistory() for i in xrange(epochs)]\n",
    "\n",
    "for i in xrange(5):\n",
    "    print()\n",
    "    print('-' * 50)\n",
    "    print('Iteration', i)\n",
    "    model.fit(X_train, y_train, batch_size=200, nb_epoch=1, verbose=1, show_accuracy=True, callbacks=[histories[i]])\n",
    "    \n",
    "\n"
   ]
  },
  {
   "cell_type": "code",
   "execution_count": null,
   "metadata": {
    "collapsed": false
   },
   "outputs": [],
   "source": [
    "losses = []\n",
    "for h in histories:\n",
    "    losses += h.losses\n",
    "print losses"
   ]
  },
  {
   "cell_type": "code",
   "execution_count": null,
   "metadata": {
    "collapsed": true
   },
   "outputs": [],
   "source": [
    "\n",
    "plt.plot(xrange(len(losses)), losses)\n",
    "\n",
    "# plot the trend line with error bars that correspond to standard deviation\n",
    "plt.title('Loss History')\n",
    "plt.xlabel('epoch')\n",
    "plt.ylabel('loss')\n",
    "\n",
    "plt.show()"
   ]
  },
  {
   "cell_type": "code",
   "execution_count": null,
   "metadata": {
    "collapsed": true
   },
   "outputs": [],
   "source": [
    "print model.summary()"
   ]
  },
  {
   "cell_type": "code",
   "execution_count": null,
   "metadata": {
    "collapsed": true
   },
   "outputs": [],
   "source": []
  }
 ],
 "metadata": {
  "kernelspec": {
   "display_name": "Python 2",
   "language": "python",
   "name": "python2"
  },
  "language_info": {
   "codemirror_mode": {
    "name": "ipython",
    "version": 2
   },
   "file_extension": ".py",
   "mimetype": "text/x-python",
   "name": "python",
   "nbconvert_exporter": "python",
   "pygments_lexer": "ipython2",
   "version": "2.7.10"
  }
 },
 "nbformat": 4,
 "nbformat_minor": 0
}
