{
 "cells": [
  {
   "cell_type": "markdown",
   "metadata": {
    "collapsed": true
   },
   "source": [
    "\"\"\"\n",
    "Implements an RNN on a synthetic data set, following the architecture \n",
    "described in \"Deep Knowledge Tracing\" by Chris Piech et al.\n",
    "The RNN implementation is based on min-char-rnn.py by Andrej Karpathy (@karpathy).\n",
    "BSD License\n",
    "\"\"\""
   ]
  },
  {
   "cell_type": "code",
   "execution_count": 1,
   "metadata": {
    "collapsed": false
   },
   "outputs": [
    {
     "name": "stdout",
     "output_type": "stream",
     "text": [
      "Couldn't import dot_parser, loading of dot files will not be possible.\n"
     ]
    }
   ],
   "source": [
    "# Python libraries\n",
    "import numpy as np\n",
    "import theano\n",
    "import theano.tensor as Tensor\n",
    "import lasagne\n",
    "import random\n",
    "import sys\n",
    "import csv\n",
    "import matplotlib.pyplot as plt\n",
    "# allows plots to show inline in ipython notebook\n",
    "%matplotlib inline\n",
    "\n",
    "# our own modules\n",
    "from utils import *\n",
    "from visualize import *\n",
    "\n",
    "data_sets_map = {\n",
    "    'synth':\"syntheticDetailed/naive_c5_q50_s4000_v0.csv\",\n",
    "    'code_org' : \"data/hoc_1-9_binary_input.csv\"\n",
    "}\n",
    "\n",
    "DATA_SET = 'code_org'\n",
    "DATA_SZ = 500000"
   ]
  },
  {
   "cell_type": "code",
   "execution_count": 2,
   "metadata": {
    "collapsed": true
   },
   "outputs": [],
   "source": [
    "# Read in the data set\n",
    "# This function can be moved to utils.py\n",
    "data_array = np.array(list(csv.reader(open(data_sets_map[DATA_SET],\"rb\"),delimiter=','))).astype('int')\n",
    "num_samples = data_array.shape[0]\n",
    "num_problems = data_array.shape[1]\n",
    "\n",
    "# time steps is number of problems - 1 because we cannot predict on the last problem.\n",
    "num_timesteps = num_problems - 1 \n",
    "\n",
    "# Split data into train and test (half and half)\n",
    "train_data = data_array[0:num_samples/2,:]\n",
    "test_data = data_array[num_samples/2:num_samples,:]"
   ]
  },
  {
   "cell_type": "code",
   "execution_count": 3,
   "metadata": {
    "collapsed": false,
    "scrolled": true
   },
   "outputs": [
    {
     "name": "stdout",
     "output_type": "stream",
     "text": [
      "Vectorization...\n",
      "Vectorization done!\n"
     ]
    }
   ],
   "source": [
    "# print (num_problems)\n",
    "# for prob in xrange(num_problems):\n",
    "#     print ('Train Prob {} : percent correct {}'.format(prob, np.mean(train[:,prob]) ))\n",
    "#     print ('Test Prob {} : percent correct {}'.format(prob, np.mean(test[:,prob]) ))\n",
    "# print ('Train : percent correct {}'.format( np.mean(train) ))\n",
    "\n",
    "num_train = train_data.shape[0]\n",
    "num_test = test_data.shape[0]\n",
    "\n",
    "print('Vectorization...')\n",
    "X_train, next_problem_train, truth_train = vectorize_data(train_data)\n",
    "X_test, next_problem_test, truth_test = vectorize_data(test_data)\n",
    "print (\"Vectorization done!\")"
   ]
  },
  {
   "cell_type": "code",
   "execution_count": 6,
   "metadata": {
    "collapsed": true
   },
   "outputs": [],
   "source": [
    "def get_batch(_X, _y, _truth, batch_size):\n",
    "    # TODO: keep a global i\n",
    "    # TODO: keep a global num_timesteps and num_problems\n",
    "    X_batch = _X[i,:,:].reshape((num_timesteps, num_problems * 2))\n",
    "    y_batch = _y[i,:].reshape((num_timesteps))\n",
    "    truth_batch = _truth[i,:].reshape((num_problems))\n",
    "    return X_batch, y_batch, truth_batch\n",
    "\n",
    "def shuffle_data(X, y, truth):\n",
    "    pass"
   ]
  },
  {
   "cell_type": "code",
   "execution_count": null,
   "metadata": {
    "collapsed": true
   },
   "outputs": [],
   "source": [
    "class TimeDenseLayer(Layer):\n",
    "    \"\"\"\n",
    "    TimeDenseLayer(incoming, num_units,\n",
    "    W=lasagne.init.GlorotUniform(), b=lasagne.init.Constant(0.),\n",
    "    nonlinearity=lasagne.nonlinearities.rectify, **kwargs)\n",
    "    A fully connected layer that deals with time step input.\n",
    "    Parameters\n",
    "    ----------\n",
    "    incoming : a :class:`Layer` instance or a tuple\n",
    "        The layer feeding into this layer, or the expected input shape.\n",
    "        Will treat the input as of shape [n_sample, n_timestep, n_input]\n",
    "    num_units : int\n",
    "        The number of units of the layer\n",
    "    W : Theano shared variable, expression, numpy array or callable\n",
    "        Initial value, expression or initializer for the weights.\n",
    "        These should be a matrix with shape ``(num_inputs, num_units)``.\n",
    "        See :func:`lasagne.utils.create_param` for more information.\n",
    "    b : Theano shared variable, expression, numpy array, callable or ``None``\n",
    "        Initial value, expression or initializer for the biases. If set to\n",
    "        ``None``, the layer will have no biases. Otherwise, biases should be\n",
    "        a 1D array with shape ``(num_units,)``.\n",
    "        See :func:`lasagne.utils.create_param` for more information.\n",
    "    nonlinearity : callable or None\n",
    "        The nonlinearity that is applied to the layer activations. If None\n",
    "        is provided, the layer will be linear.\n",
    "    \"\"\"\n",
    "    def __init__(self, incoming, num_units, W=init.GlorotUniform(),\n",
    "                 b=init.Constant(0.), nonlinearity=Tensor.nnet.softmax,\n",
    "                 **kwargs):\n",
    "        super(DenseLayer, self).__init__(incoming, **kwargs)\n",
    "        self.nonlinearity = (nonlinearities.identity if nonlinearity is None\n",
    "                             else nonlinearity)\n",
    "\n",
    "        self.num_units = num_units\n",
    "\n",
    "        num_samples = int(self.input_shape[0])\n",
    "        num_timesteps = int(self.input_shape[1])\n",
    "        num_inputs = int(np.prod(self.input_shape[2:]))\n",
    "\n",
    "        self.W = self.add_param(W, (num_inputs, num_units), name=\"W\")\n",
    "        if b is None:\n",
    "            self.b = None\n",
    "        else:\n",
    "            self.b = self.add_param(b, (num_units,), name=\"b\",\n",
    "                                    regularizable=False)\n",
    "\n",
    "    def get_output_shape_for(self, input_shape):\n",
    "        return (self.num_samples, self.num_timesteps, self.num_units)\n",
    "\n",
    "    def get_output_for(self, input, **kwargs):\n",
    "        input_reshaped = Tensor.reshape([self.num_timesteps, self.num_samples, self.num_inputs])\n",
    "        # TODO: deal with b = None case\n",
    "        results, updates = theano.scan(lambda x: self.nonlinearity(T.dot(input, self.W) + self.b.dimshuffle('x', 0)),\n",
    "                                      outputs_info=None,\n",
    "                                      sequences=[input_reshaped])\n",
    "        return results"
   ]
  },
  {
   "cell_type": "code",
   "execution_count": 27,
   "metadata": {
    "collapsed": false
   },
   "outputs": [],
   "source": [
    "# hyperparameters\n",
    "hidden_size = 200 # size of hidden layer of neurons\n",
    "learning_rate = 1e-1\n",
    "epochs = 2\n",
    "reg_strength = 0.0\n",
    "grad_clip = 100\n",
    "\n",
    "'''\n",
    "Create a model using Lasagne layering system. The layers are as follows:\n",
    " - Input layer: [n_sample, n_time, n_input] -> [n_sample, n_time, n_input]\n",
    " - LSTM layer: [n_sample, n_time, n_input] -> [n_sample, n_time, n_hidden]\n",
    " - Reshape layer: [n_sample, n_time, n_hidden] -> [n_sample*n_time, n_hidden]\n",
    " - Dense layer: [n_sample*n_time, n_hidden] -> [n_sample*n_time, n_output]\n",
    " - Output reshape layer: [n_sample*n_time, n_output] -> [n_sample, n_time, n_output]\n",
    "'''\n",
    "l_in = lasagne.layers.InputLayer(shape=(None, num_timesteps, num_problems * 2))\n",
    "l_lstm = lasagne.layers.LSTMLayer(\n",
    "    l_in, hidden_size, grad_clipping=grad_clip,\n",
    "    nonlinearity=lasagne.nonlinearities.tanh)\n",
    "l_reshape = lasagne.layers.ReshapeLayer(l_lstm, (-1, hidden_size))\n",
    "l_out = lasagne.layers.DenseLayer(l_reshape,\n",
    "    num_units=num_problems,\n",
    "    W = lasagne.init.Normal(),\n",
    "    nonlinearity=lasagne.nonlinearities.sigmoid)\n",
    "l_pred = lasagne.layers.ReshapeLayer(l_out, (-1, num_timesteps, num_problems))\n",
    "\n",
    "# pred:for each student, a vector that gives probability of next question being answered correctly\n",
    "# y: for each student, a one-hot-encoding of shape (num_timesteps, num_problems), indicating which problem the student will do at the next timestep \n",
    "# truth: for each student, a vector that indicates for each timestep whether next problem was answered correctly\n",
    "pred = lasagne.layers.get_output(l_pred)\n",
    "next_problem = Tensor.imatrix('next_problem')\n",
    "truth = Tensor.imatrix(\"truth\")\n",
    "\n",
    "# loss function\n",
    "pred_probs = Tensor.sum(pred * next_problem, axis = 1)\n",
    "printstuff = theano.function([pred_probs], pred_probs.shape)\n",
    "# loss = Tensor.nnet.binary_crossentropy(pred_probs, truth)\n",
    "\n",
    "# # update function\n",
    "# print(\"Computing updates ...\")\n",
    "# all_params = lasagne.layers.get_all_params(l_pred)\n",
    "# updates = lasagne.updates.adagrad(loss, all_params, learning_rate)\n",
    "\n",
    "# # training function\n",
    "# print(\"Compiling functions ...\")\n",
    "# train = theano.function([l_in.input_var, _next_problem, _truth], loss, updates=updates, allow_input_downcast=True)\n",
    "# compute_cost = theano.function([l_in.input_var, _next_problem, _truth], loss, allow_input_downcast=True)\n",
    "# # accuracy function\n",
    "# print(\"Compiling done!\")\n",
    "\n",
    "\n",
    "# loss function\n",
    "# results, updates = theano.scan(lambda output_t, target_t, correctness: \n",
    "#                                Tensor.nnet.binary_crossentropy(output_t[target_t], correctness[target_t]),\n",
    "#                                outputs_info=None,\n",
    "#                                sequences=[output,target],\n",
    "#                                non_sequences=correctness)\n",
    "# cost = results.sum()\n",
    "# # update function\n",
    "# print(\"Computing updates ...\")\n",
    "# all_params = lasagne.layers.get_all_params(l_out)\n",
    "# updates = lasagne.updates.adagrad(cost, all_params, learning_rate)\n",
    "# print(\"Compiling functions ...\")\n",
    "# train = theano.function([l_in.input_var, target, correctness], cost, updates=updates, allow_input_downcast=True)\n",
    "# compute_cost = theano.function([l_in.input_var, target, correctness], cost, allow_input_downcast=True)\n",
    "# probs = theano.function([l_in.input_var],output,allow_input_downcast=True)\n",
    "# print(\"Compiling done!\")"
   ]
  },
  {
   "cell_type": "code",
   "execution_count": 30,
   "metadata": {
    "collapsed": false
   },
   "outputs": [
    {
     "ename": "TypeError",
     "evalue": "'builtin_function_or_method' object has no attribute '__getitem__'",
     "output_type": "error",
     "traceback": [
      "\u001b[1;31m---------------------------------------------------------------------------\u001b[0m",
      "\u001b[1;31mTypeError\u001b[0m                                 Traceback (most recent call last)",
      "\u001b[1;32m<ipython-input-30-bc59996f5541>\u001b[0m in \u001b[0;36m<module>\u001b[1;34m()\u001b[0m\n\u001b[0;32m      1\u001b[0m \u001b[1;31m# printstuff = theano.function([x,y], pred_probs)\u001b[0m\u001b[1;33m\u001b[0m\u001b[1;33m\u001b[0m\u001b[0m\n\u001b[1;32m----> 2\u001b[1;33m \u001b[0mprintstuff\u001b[0m\u001b[1;33m(\u001b[0m\u001b[0mnp\u001b[0m\u001b[1;33m.\u001b[0m\u001b[0marray\u001b[0m\u001b[1;33m[\u001b[0m\u001b[1;36m1\u001b[0m\u001b[1;33m,\u001b[0m\u001b[1;36m2\u001b[0m\u001b[1;33m,\u001b[0m\u001b[1;36m34\u001b[0m\u001b[1;33m]\u001b[0m\u001b[1;33m)\u001b[0m\u001b[1;33m\u001b[0m\u001b[0m\n\u001b[0m",
      "\u001b[1;31mTypeError\u001b[0m: 'builtin_function_or_method' object has no attribute '__getitem__'"
     ]
    }
   ],
   "source": [
    "# printstuff = theano.function([x,y], pred_probs)\n",
    "printstuff(np.array[1,2,3,4])"
   ]
  },
  {
   "cell_type": "code",
   "execution_count": 20,
   "metadata": {
    "collapsed": false
   },
   "outputs": [
    {
     "ename": "TypeError",
     "evalue": "('Bad input argument to theano function with name \"<ipython-input-19-b15064ddf163>:42\"  at index 0(0-based)', 'Wrong number of dimensions: expected 3, got 2 with shape (8, 18).')",
     "output_type": "error",
     "traceback": [
      "\u001b[1;31m---------------------------------------------------------------------------\u001b[0m",
      "\u001b[1;31mTypeError\u001b[0m                                 Traceback (most recent call last)",
      "\u001b[1;32m<ipython-input-20-6696a690c8ed>\u001b[0m in \u001b[0;36m<module>\u001b[1;34m()\u001b[0m\n\u001b[0;32m      7\u001b[0m     \u001b[1;32mfor\u001b[0m \u001b[0mi\u001b[0m \u001b[1;32min\u001b[0m \u001b[0mxrange\u001b[0m\u001b[1;33m(\u001b[0m\u001b[0mnum_train\u001b[0m\u001b[1;33m)\u001b[0m\u001b[1;33m:\u001b[0m\u001b[1;33m\u001b[0m\u001b[0m\n\u001b[0;32m      8\u001b[0m         \u001b[0minputs_train\u001b[0m\u001b[1;33m,\u001b[0m \u001b[0mtargets_train\u001b[0m\u001b[1;33m,\u001b[0m \u001b[0mcorrectness_train\u001b[0m \u001b[1;33m=\u001b[0m \u001b[0mextract_x_y_corr_for_sample\u001b[0m\u001b[1;33m(\u001b[0m\u001b[0mX_train\u001b[0m\u001b[1;33m,\u001b[0m \u001b[0my_train\u001b[0m\u001b[1;33m,\u001b[0m \u001b[0mcorr_train\u001b[0m\u001b[1;33m)\u001b[0m\u001b[1;33m\u001b[0m\u001b[0m\n\u001b[1;32m----> 9\u001b[1;33m         \u001b[0mloss\u001b[0m \u001b[1;33m=\u001b[0m \u001b[0mtrain\u001b[0m\u001b[1;33m(\u001b[0m\u001b[0minputs_train\u001b[0m\u001b[1;33m,\u001b[0m \u001b[0mtargets_train\u001b[0m\u001b[1;33m,\u001b[0m \u001b[0mcorrectness_train\u001b[0m\u001b[1;33m)\u001b[0m\u001b[1;33m\u001b[0m\u001b[0m\n\u001b[0m\u001b[0;32m     10\u001b[0m         \u001b[0msmooth_loss\u001b[0m \u001b[1;33m=\u001b[0m \u001b[0msmooth_loss\u001b[0m \u001b[1;33m*\u001b[0m \u001b[1;36m0.7\u001b[0m \u001b[1;33m+\u001b[0m \u001b[0mloss\u001b[0m \u001b[1;33m*\u001b[0m \u001b[1;36m0.3\u001b[0m\u001b[1;33m\u001b[0m\u001b[0m\n\u001b[0;32m     11\u001b[0m         \u001b[0mlosses\u001b[0m\u001b[1;33m.\u001b[0m\u001b[0mappend\u001b[0m\u001b[1;33m(\u001b[0m\u001b[0msmooth_loss\u001b[0m\u001b[1;33m)\u001b[0m\u001b[1;33m\u001b[0m\u001b[0m\n",
      "\u001b[1;32m/usr/local/lib/python2.7/dist-packages/theano/compile/function_module.pyc\u001b[0m in \u001b[0;36m__call__\u001b[1;34m(self, *args, **kwargs)\u001b[0m\n\u001b[0;32m    511\u001b[0m                     \u001b[1;32mtry\u001b[0m\u001b[1;33m:\u001b[0m\u001b[1;33m\u001b[0m\u001b[0m\n\u001b[0;32m    512\u001b[0m                         s.storage[0] = s.type.filter(arg, strict=s.strict,\n\u001b[1;32m--> 513\u001b[1;33m                                 allow_downcast=s.allow_downcast)\n\u001b[0m\u001b[0;32m    514\u001b[0m \u001b[1;33m\u001b[0m\u001b[0m\n\u001b[0;32m    515\u001b[0m                     \u001b[1;32mexcept\u001b[0m \u001b[0mException\u001b[0m\u001b[1;33m,\u001b[0m \u001b[0me\u001b[0m\u001b[1;33m:\u001b[0m\u001b[1;33m\u001b[0m\u001b[0m\n",
      "\u001b[1;32m/usr/local/lib/python2.7/dist-packages/theano/tensor/type.pyc\u001b[0m in \u001b[0;36mfilter\u001b[1;34m(self, data, strict, allow_downcast)\u001b[0m\n\u001b[0;32m    167\u001b[0m             raise TypeError(\"Wrong number of dimensions: expected %s,\"\n\u001b[0;32m    168\u001b[0m                             \" got %s with shape %s.\" % (self.ndim, data.ndim,\n\u001b[1;32m--> 169\u001b[1;33m                                                         data.shape))\n\u001b[0m\u001b[0;32m    170\u001b[0m         \u001b[1;32mif\u001b[0m \u001b[1;32mnot\u001b[0m \u001b[0mdata\u001b[0m\u001b[1;33m.\u001b[0m\u001b[0mflags\u001b[0m\u001b[1;33m.\u001b[0m\u001b[0maligned\u001b[0m\u001b[1;33m:\u001b[0m\u001b[1;33m\u001b[0m\u001b[0m\n\u001b[0;32m    171\u001b[0m             \u001b[1;32mtry\u001b[0m\u001b[1;33m:\u001b[0m\u001b[1;33m\u001b[0m\u001b[0m\n",
      "\u001b[1;31mTypeError\u001b[0m: ('Bad input argument to theano function with name \"<ipython-input-19-b15064ddf163>:42\"  at index 0(0-based)', 'Wrong number of dimensions: expected 3, got 2 with shape (8, 18).')"
     ]
    }
   ],
   "source": [
    "losses = []\n",
    "train_accuracies = []\n",
    "test_accuracies = []\n",
    "for e in xrange(epochs):\n",
    "#     total_acc_train = 0.0\n",
    "#     total_acc_test = 0.0\n",
    "#     for i in xrange(num_train):\n",
    "#         inputs_train, targets_train, correctness_train = extract_x_y_corr_for_sample(X_train, y_train, corr_train)\n",
    "#         inputs_train.reshape()\n",
    "#         loss = train(inputs_train, targets_train, correctness_train)\n",
    "#         smooth_loss = smooth_loss * 0.7 + loss * 0.3\n",
    "#         losses.append(smooth_loss)\n",
    "#         ps_train = probs(inputs_train)\n",
    "#         acc_train = accuracy(ps_train, targets_train, correctness_train)\n",
    "#         train_accuracies.append(acc_train)\n",
    "\n",
    "#         if i%print_batch_sz == 0 and i != 0:\n",
    "#             print ('epoch %d, iter %d, loss: %f, train acc: %f' % (e, i, smooth_loss, acc_train)) \n",
    "\n",
    "#         total_acc_train += acc_train\n",
    "#     total_acc_train /= num_train\n",
    "    loss = train(X_train, y_train, corr_train)\n",
    "    # ps_train = probs(X_train)\n",
    "    # acc_train = accuracy(ps_train, targets_train, correctness_train)\n",
    "    \n",
    "#     for i in xrange(num_test):\n",
    "#         inputs_test, targets_test, correctness_test = extract_x_y_corr_for_sample(X_test, y_test, corr_test)\n",
    "#         ps_test = probs(inputs_test)\n",
    "#         acc_test = accuracy(ps_test, targets_test, correctness_test) \n",
    "#         test_accuracies.append(acc_test)\n",
    "#         total_acc_test += acc_test\n",
    "#     total_acc_test /= num_test\n",
    "    \n",
    "#     print ('epoch %d, train acc: %f, test acc: %f' % (e, total_acc_train, total_acc_test)) # print progress\n",
    "    print ('epoch %d, loss: %f' % (e, loss)) # print progress\n",
    "                    "
   ]
  },
  {
   "cell_type": "code",
   "execution_count": 24,
   "metadata": {
    "collapsed": false
   },
   "outputs": [
    {
     "data": {
      "image/png": "[encoded data removed]",
      "text/plain": [
       "<matplotlib.figure.Figure at 0x111206b90>"
      ]
     },
     "metadata": {},
     "output_type": "display_data"
    }
   ],
   "source": [
    "visualize.plot_loss_train_test_acc(losses, train_accuracies, test_accuracies, learning_rate, reg_strength, epochs, num_train)"
   ]
  },
  {
   "cell_type": "code",
   "execution_count": null,
   "metadata": {
    "collapsed": true
   },
   "outputs": [],
   "source": []
  },
  {
   "cell_type": "code",
   "execution_count": null,
   "metadata": {
    "collapsed": true
   },
   "outputs": [],
   "source": []
  }
 ],
 "metadata": {
  "kernelspec": {
   "display_name": "Python 2",
   "language": "python",
   "name": "python2"
  },
  "language_info": {
   "codemirror_mode": {
    "name": "ipython",
    "version": 2
   },
   "file_extension": ".py",
   "mimetype": "text/x-python",
   "name": "python",
   "nbconvert_exporter": "python",
   "pygments_lexer": "ipython2",
   "version": "2.7.11"
  }
 },
 "nbformat": 4,
 "nbformat_minor": 0
}
